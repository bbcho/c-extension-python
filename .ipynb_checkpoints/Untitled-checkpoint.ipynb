{
 "cells": [
  {
   "cell_type": "code",
   "execution_count": 1,
   "id": "a16ed61f-589c-49f8-a5e7-f0a81f20641d",
   "metadata": {},
   "outputs": [],
   "source": [
    "%load_ext autoreload\n",
    "%autoreload 2\n",
    "import main"
   ]
  },
  {
   "cell_type": "code",
   "execution_count": 2,
   "id": "7ad97214-c077-4d6b-a39e-931d578f2fa1",
   "metadata": {},
   "outputs": [
    {
     "data": {
      "text/plain": [
       "5"
      ]
     },
     "execution_count": 2,
     "metadata": {},
     "output_type": "execute_result"
    }
   ],
   "source": [
    "main.a"
   ]
  },
  {
   "cell_type": "code",
   "execution_count": 3,
   "id": "636eb655-6b96-447a-8b05-8d6480ad867f",
   "metadata": {},
   "outputs": [],
   "source": [
    "import main.sub"
   ]
  },
  {
   "cell_type": "code",
   "execution_count": 4,
   "id": "43632781-616e-432a-870a-080db8f55553",
   "metadata": {},
   "outputs": [
    {
     "data": {
      "text/plain": [
       "<module 'main.sub' from '/home/bcho/PROJECTS/main/main/sub.cpython-310-x86_64-linux-gnu.so'>"
      ]
     },
     "execution_count": 4,
     "metadata": {},
     "output_type": "execute_result"
    }
   ],
   "source": [
    "main.sub"
   ]
  },
  {
   "cell_type": "code",
   "execution_count": 5,
   "id": "e702fcce-b5ba-43f6-a4e0-3f7ae473a742",
   "metadata": {},
   "outputs": [
    {
     "data": {
      "text/plain": [
       "2"
      ]
     },
     "execution_count": 5,
     "metadata": {},
     "output_type": "execute_result"
    }
   ],
   "source": [
    "main.sub.division(4,2)"
   ]
  },
  {
   "cell_type": "code",
   "execution_count": 6,
   "id": "23e5e305-74a9-42b5-9823-a047913a38b8",
   "metadata": {},
   "outputs": [
    {
     "data": {
      "text/plain": [
       "<function main.sub.division>"
      ]
     },
     "execution_count": 6,
     "metadata": {},
     "output_type": "execute_result"
    }
   ],
   "source": [
    "main.sub.division"
   ]
  },
  {
   "cell_type": "code",
   "execution_count": null,
   "id": "09b389a3-7aa2-4bbb-969b-187c32bda7f3",
   "metadata": {},
   "outputs": [],
   "source": []
  }
 ],
 "metadata": {
  "kernelspec": {
   "display_name": "Python 3 (ipykernel)",
   "language": "python",
   "name": "python3"
  },
  "language_info": {
   "codemirror_mode": {
    "name": "ipython",
    "version": 3
   },
   "file_extension": ".py",
   "mimetype": "text/x-python",
   "name": "python",
   "nbconvert_exporter": "python",
   "pygments_lexer": "ipython3",
   "version": "3.10.6"
  }
 },
 "nbformat": 4,
 "nbformat_minor": 5
}
