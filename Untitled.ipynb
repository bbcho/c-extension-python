{
 "cells": [
  {
   "cell_type": "code",
   "execution_count": 1,
   "id": "a16ed61f-589c-49f8-a5e7-f0a81f20641d",
   "metadata": {},
   "outputs": [],
   "source": [
    "%load_ext autoreload\n",
    "%autoreload 2\n",
    "import main"
   ]
  },
  {
   "cell_type": "code",
   "execution_count": 2,
   "id": "7ad97214-c077-4d6b-a39e-931d578f2fa1",
   "metadata": {},
   "outputs": [
    {
     "ename": "AttributeError",
     "evalue": "module 'main' has no attribute 'a'",
     "output_type": "error",
     "traceback": [
      "\u001b[0;31m---------------------------------------------------------------------------\u001b[0m",
      "\u001b[0;31mAttributeError\u001b[0m                            Traceback (most recent call last)",
      "Cell \u001b[0;32mIn[2], line 1\u001b[0m\n\u001b[0;32m----> 1\u001b[0m \u001b[43mmain\u001b[49m\u001b[38;5;241;43m.\u001b[39;49m\u001b[43ma\u001b[49m\n",
      "\u001b[0;31mAttributeError\u001b[0m: module 'main' has no attribute 'a'"
     ]
    }
   ],
   "source": [
    "main.a"
   ]
  },
  {
   "cell_type": "code",
   "execution_count": 3,
   "id": "e702fcce-b5ba-43f6-a4e0-3f7ae473a742",
   "metadata": {},
   "outputs": [
    {
     "data": {
      "text/plain": [
       "2"
      ]
     },
     "execution_count": 3,
     "metadata": {},
     "output_type": "execute_result"
    }
   ],
   "source": [
    "main.division(4,2)"
   ]
  },
  {
   "cell_type": "code",
   "execution_count": null,
   "id": "9d6fe575-3875-4bf9-a1d2-a7c4a8115b57",
   "metadata": {},
   "outputs": [],
   "source": []
  }
 ],
 "metadata": {
  "kernelspec": {
   "display_name": "Python 3 (ipykernel)",
   "language": "python",
   "name": "python3"
  },
  "language_info": {
   "codemirror_mode": {
    "name": "ipython",
    "version": 3
   },
   "file_extension": ".py",
   "mimetype": "text/x-python",
   "name": "python",
   "nbconvert_exporter": "python",
   "pygments_lexer": "ipython3",
   "version": "3.10.6"
  }
 },
 "nbformat": 4,
 "nbformat_minor": 5
}
