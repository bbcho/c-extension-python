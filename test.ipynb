{
 "cells": [
  {
   "cell_type": "code",
   "execution_count": 2,
   "id": "a16ed61f-589c-49f8-a5e7-f0a81f20641d",
   "metadata": {},
   "outputs": [
    {
     "name": "stdout",
     "output_type": "stream",
     "text": [
      "The autoreload extension is already loaded. To reload it, use:\n",
      "  %reload_ext autoreload\n"
     ]
    }
   ],
   "source": [
    "%load_ext autoreload\n",
    "%autoreload 2\n",
    "import main"
   ]
  },
  {
   "cell_type": "code",
   "execution_count": 3,
   "id": "7ad97214-c077-4d6b-a39e-931d578f2fa1",
   "metadata": {},
   "outputs": [
    {
     "data": {
      "text/plain": [
       "5"
      ]
     },
     "execution_count": 3,
     "metadata": {},
     "output_type": "execute_result"
    }
   ],
   "source": [
    "main.a"
   ]
  },
  {
   "cell_type": "code",
   "execution_count": 7,
   "id": "43632781-616e-432a-870a-080db8f55553",
   "metadata": {},
   "outputs": [
    {
     "data": {
      "text/plain": [
       "2"
      ]
     },
     "execution_count": 7,
     "metadata": {},
     "output_type": "execute_result"
    }
   ],
   "source": [
    "main.division(4,2)"
   ]
  },
  {
   "cell_type": "code",
   "execution_count": 11,
   "id": "b3437fc7-feef-44e0-b241-2185a69a2b21",
   "metadata": {},
   "outputs": [
    {
     "data": {
      "text/plain": [
       "2"
      ]
     },
     "execution_count": 11,
     "metadata": {},
     "output_type": "execute_result"
    }
   ],
   "source": [
    "main.sub.division(4,2)"
   ]
  },
  {
   "cell_type": "code",
   "execution_count": null,
   "id": "866f40db",
   "metadata": {},
   "outputs": [],
   "source": []
  }
 ],
 "metadata": {
  "kernelspec": {
   "display_name": "env",
   "language": "python",
   "name": "python3"
  },
  "language_info": {
   "codemirror_mode": {
    "name": "ipython",
    "version": 3
   },
   "file_extension": ".py",
   "mimetype": "text/x-python",
   "name": "python",
   "nbconvert_exporter": "python",
   "pygments_lexer": "ipython3",
   "version": "3.10.6"
  },
  "vscode": {
   "interpreter": {
    "hash": "d1bacc76129970514fb0033623b585676e9df34e204b3122f5f8686afbefa21f"
   }
  }
 },
 "nbformat": 4,
 "nbformat_minor": 5
}
